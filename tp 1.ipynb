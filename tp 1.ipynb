{
 "cells": [
  {
   "cell_type": "markdown",
   "metadata": {},
   "source": [
    "# TP de filtrage bayésien"
   ]
  },
  {
   "cell_type": "markdown",
   "metadata": {},
   "source": [
    "Calcul de l'intégrale $\\displaystyle \\int_{0}^{1} cos(\\frac{\\pi x}{2}) \\, \\mathrm{d}x$ par simulation de Monte Carlo"
   ]
  },
  {
   "cell_type": "code",
   "execution_count": 32,
   "metadata": {},
   "outputs": [],
   "source": [
    "import numpy as np\n",
    "import numpy.random\n",
    "import math\n",
    "import matplotlib.pyplot as plt\n",
    "from scipy.integrate import quad"
   ]
  },
  {
   "cell_type": "markdown",
   "metadata": {},
   "source": [
    "Par MC brute"
   ]
  },
  {
   "cell_type": "code",
   "execution_count": 54,
   "metadata": {},
   "outputs": [],
   "source": [
    "iterations_mc = 1000\n",
    "taille_echantillon=50\n",
    "\n",
    "def g(x):\n",
    "    return(math.cos(math.pi*x/2))\n",
    "\n",
    "def mu_n(taille_echantillon):\n",
    "    \"\"\"generation d'une réalisation de mu_n\"\"\"\n",
    "    return(np.mean([g(np.random.uniform(0,1)) for i in range(taille_echantillon)]))\n",
    "\n",
    "def simulation_mu_n(iterations_mc,taille_echantillon,estimateur):\n",
    "    \"\"\"return un array de taille iterations_mc réalisations de mu_n\"\"\"\n",
    "    L=[]\n",
    "    for i in range(iterations_mc):\n",
    "        L.append(estimateur(taille_echantillon))\n",
    "    return(np.array(L))\n"
   ]
  },
  {
   "cell_type": "code",
   "execution_count": 55,
   "metadata": {},
   "outputs": [
    {
     "name": "stdout",
     "output_type": "stream",
     "text": [
      "variance empirique : 0.002073941420789133\n",
      "variance théorique : 0.001894305308612978\n"
     ]
    }
   ],
   "source": [
    "print(\"variance empirique : \"+str(np.var(simulation_mu_n(iterations_mc,taille_echantillon,mu_n))))\n",
    "print(\"variance théorique : \" + str(((1/2-4/(math.pi)**2)/50)))"
   ]
  },
  {
   "cell_type": "markdown",
   "metadata": {},
   "source": [
    "Par importance sampling"
   ]
  },
  {
   "cell_type": "code",
   "execution_count": 40,
   "metadata": {},
   "outputs": [],
   "source": [
    "def developement_limite_g(x):\n",
    "    return(1 - ((math.pi*x)**2)/8 )\n",
    "\n",
    "def q_tilde(x):\n",
    "    facteur_normalisation, err = quad(developement_limite_g,0,1)\n",
    "    # print(facteur_normalisation)\n",
    "    return(developement_limite_g(x)/facteur_normalisation)\n"
   ]
  },
  {
   "cell_type": "markdown",
   "metadata": {},
   "source": [
    "Affichage de g et de son DL en 0"
   ]
  },
  {
   "cell_type": "code",
   "execution_count": 48,
   "metadata": {},
   "outputs": [
    {
     "data": {
      "image/png": "[encoded data removed]",
      "text/plain": [
       "<Figure size 432x288 with 1 Axes>"
      ]
     },
     "metadata": {
      "needs_background": "light"
     },
     "output_type": "display_data"
    }
   ],
   "source": [
    "X = np.linspace(0,1,100)\n",
    "DL= developement_limite_g(X)\n",
    "G = [g(x) for x in X]\n",
    "plt.plot(X,DL)\n",
    "plt.plot(X,G)\n",
    "plt.show()"
   ]
  },
  {
   "cell_type": "markdown",
   "metadata": {},
   "source": [
    "Affichage de $\\overset{\\sim}{q}$ donne :\n"
   ]
  },
  {
   "cell_type": "code",
   "execution_count": 49,
   "metadata": {},
   "outputs": [
    {
     "data": {
      "image/png": "[encoded data removed]",
      "text/plain": [
       "<Figure size 432x288 with 1 Axes>"
      ]
     },
     "metadata": {
      "needs_background": "light"
     },
     "output_type": "display_data"
    }
   ],
   "source": [
    "X = np.linspace(0,1,100)\n",
    "Q= q_tilde(X)\n",
    "G = [g(x) for x in X]\n",
    "plt.plot(X,Q)\n",
    "plt.plot(X,G)\n",
    "plt.show()"
   ]
  },
  {
   "cell_type": "code",
   "execution_count": 75,
   "metadata": {},
   "outputs": [],
   "source": [
    "def quotient_g_q(x):\n",
    "    return(g(x)/q_tilde(x))\n",
    "\n",
    "def mu_tilde_n(taille_echantillon):\n",
    "    \"\"\"generation d'une réalisation de mu_tilde_n\"\"\"\n",
    "    return(np.mean([quotient_g_q(generation_q_tilde()) for i in range(taille_echantillon)]))\n",
    "\n",
    "def generation_q_tilde(): ## calculer la propriété d'acceptation\n",
    "    X = np.random.uniform(0,1,1)\n",
    "    U = np.random.uniform(0,1,1)\n",
    "    C= q_tilde(0)\n",
    "    while q_tilde(X)<C*U : \n",
    "        X = np.random.uniform(0,1,1)\n",
    "        U = np.random.uniform(0,1,1)\n",
    "    return(X)\n",
    "    "
   ]
  },
  {
   "cell_type": "markdown",
   "metadata": {},
   "source": [
    "Calcul de la variance empirique de $\\hat{\\mu}_{N}$ estimé par importance sampling avec le changement de probabilité $\\overset{\\sim}{q}$ "
   ]
  },
  {
   "cell_type": "code",
   "execution_count": 100,
   "metadata": {},
   "outputs": [
    {
     "name": "stderr",
     "output_type": "stream",
     "text": [
      "<ipython-input-100-06a259dead77>:5: IntegrationWarning: The maximum number of subdivisions (50) has been achieved.\n",
      "  If increasing the limit yields no improvement it is advised to analyze \n",
      "  the integrand in order to determine the difficulties.  If the position of a \n",
      "  local difficulty can be determined (singularity, discontinuity) one will \n",
      "  probably gain from splitting up the interval and calling the integrator \n",
      "  on the subranges.  Perhaps a special-purpose integrator should be used.\n",
      "  res, err = quad(integrande_var_theo,0,1)\n"
     ]
    }
   ],
   "source": [
    "# print(\"variance empirique importance sampling : \" + str(np.var(simulation_mu_n(iterations_mc,taille_echantillon,mu_tilde_n))))\n",
    "# variance theorique\n",
    "def integrande_var_theo(x):\n",
    "    return(g(x)*g(x)/q_tilde(x))\n",
    "    \n",
    "res, err = quad(integrande_var_theo,0,1)\n",
    "var_theorique = (res-4/((math.pi)**2))/taille_echantillon"
   ]
  },
  {
   "cell_type": "code",
   "execution_count": 102,
   "metadata": {},
   "outputs": [
    {
     "data": {
      "text/plain": [
       "[<matplotlib.lines.Line2D at 0x2137b864b50>]"
      ]
     },
     "execution_count": 102,
     "metadata": {},
     "output_type": "execute_result"
    },
    {
     "data": {
      "image/png": "[encoded data removed]",
      "text/plain": [
       "<Figure size 432x288 with 1 Axes>"
      ]
     },
     "metadata": {
      "needs_background": "light"
     },
     "output_type": "display_data"
    }
   ],
   "source": [
    "X = np.linspace(0,1,100)\n",
    "Y = [integrande_var_theo(x) for x in X]\n",
    "plt.plot(X,Y)"
   ]
  }
 ],
 "metadata": {
  "kernelspec": {
   "display_name": "Python 3.8.5 ('base')",
   "language": "python",
   "name": "python3"
  },
  "language_info": {
   "codemirror_mode": {
    "name": "ipython",
    "version": 3
   },
   "file_extension": ".py",
   "mimetype": "text/x-python",
   "name": "python",
   "nbconvert_exporter": "python",
   "pygments_lexer": "ipython3",
   "version": "3.8.5"
  },
  "orig_nbformat": 4,
  "vscode": {
   "interpreter": {
    "hash": "f2a8ec5f68262961da4f9087eb6eb056d22de5b50841bcb2fddfe1c2c8bdd319"
   }
  }
 },
 "nbformat": 4,
 "nbformat_minor": 2
}
