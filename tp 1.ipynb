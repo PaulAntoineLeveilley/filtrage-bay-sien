{
 "cells": [
  {
   "cell_type": "markdown",
   "metadata": {},
   "source": [
    "# TP de filtrage bayésien"
   ]
  },
  {
   "cell_type": "markdown",
   "metadata": {},
   "source": [
    "Calcul de l'intégrale $\\displaystyle \\int_{0}^{1} cos(\\frac{\\pi x}{2}) \\, \\mathrm{d}x$ par simulation de Monte Carlo"
   ]
  },
  {
   "cell_type": "code",
   "execution_count": 30,
   "metadata": {},
   "outputs": [],
   "source": [
    "import numpy as np\n",
    "import numpy.random\n",
    "import math\n",
    "import matplotlib.pyplot as plt\n",
    "from scipy.integrate import quad\n",
    "import warnings"
   ]
  },
  {
   "cell_type": "markdown",
   "metadata": {},
   "source": [
    "### Par MC brute"
   ]
  },
  {
   "cell_type": "code",
   "execution_count": 133,
   "metadata": {},
   "outputs": [],
   "source": [
    "iterations_mc = 1000\n",
    "taille_echantillon=50\n",
    "\n",
    "def g(x):\n",
    "    return(math.cos(math.pi*x/2))\n",
    "\n",
    "def mu_n(taille_echantillon):\n",
    "    \"\"\"generation d'une réalisation de mu_n\"\"\"\n",
    "    return({\"valeur\" : np.mean([g(np.random.uniform(0,1)) for i in range(taille_echantillon)]),\"acceptation\" : False})\n",
    "\n",
    "def simulation_mu_n(iterations_mc,taille_echantillon,estimateur):\n",
    "    \"\"\"return un array de taille iterations_mc réalisations de mu_n\"\"\"\n",
    "    estimation=[]\n",
    "    proba_acceptation = []\n",
    "    for i in range(iterations_mc):\n",
    "        estimateur_value = estimateur(taille_echantillon)\n",
    "        estimation.append(estimateur_value[\"valeur\"])\n",
    "        proba_acceptation.append(estimateur_value[\"acceptation\"])\n",
    "    return({\"estimation\" : np.array(estimation),\"acceptation\" : np.mean(np.array(proba_acceptation))})\n"
   ]
  },
  {
   "cell_type": "code",
   "execution_count": 146,
   "metadata": {},
   "outputs": [
    {
     "name": "stdout",
     "output_type": "stream",
     "text": [
      "variance empirique : 0.002137311479519394\n",
      "variance théorique : 0.001894305308612978\n"
     ]
    }
   ],
   "source": [
    "variance_emp_1 =  np.var(simulation_mu_n(iterations_mc,taille_echantillon,mu_n)[\"estimation\"])\n",
    "variance_theo_1 = ((1/2-4/(math.pi)**2)/50)\n",
    "print(\"variance empirique : \"+str(variance_emp_1))\n",
    "print(\"variance théorique : \" + str(variance_theo_1))"
   ]
  },
  {
   "cell_type": "markdown",
   "metadata": {},
   "source": [
    "### Par importance sampling"
   ]
  },
  {
   "cell_type": "code",
   "execution_count": 43,
   "metadata": {},
   "outputs": [],
   "source": [
    "def developement_limite_g(x):\n",
    "    \"\"\"DL de g en 0\"\"\"\n",
    "    return(1 - ((math.pi*x)**2)/8 )\n",
    "\n",
    "def q_tilde(x):\n",
    "    \"\"\"q_tilde\"\"\"\n",
    "    facteur_normalisation, err = quad(developement_limite_g,0,1)\n",
    "    return(developement_limite_g(x)/facteur_normalisation)\n"
   ]
  },
  {
   "cell_type": "markdown",
   "metadata": {},
   "source": [
    "Affichage de g et de son DL en 0"
   ]
  },
  {
   "cell_type": "code",
   "execution_count": 5,
   "metadata": {},
   "outputs": [
    {
     "data": {
      "image/png": "[encoded data removed]",
      "text/plain": [
       "<Figure size 432x288 with 1 Axes>"
      ]
     },
     "metadata": {
      "needs_background": "light"
     },
     "output_type": "display_data"
    }
   ],
   "source": [
    "X = np.linspace(0,1,100)\n",
    "DL= developement_limite_g(X)\n",
    "G = [g(x) for x in X]\n",
    "plt.plot(X,DL)\n",
    "plt.plot(X,G)\n",
    "plt.show()"
   ]
  },
  {
   "cell_type": "markdown",
   "metadata": {},
   "source": [
    "Affichage de $\\overset{\\sim}{q}$ donne :\n"
   ]
  },
  {
   "cell_type": "code",
   "execution_count": 6,
   "metadata": {},
   "outputs": [
    {
     "data": {
      "image/png": "[encoded data removed]",
      "text/plain": [
       "<Figure size 432x288 with 1 Axes>"
      ]
     },
     "metadata": {
      "needs_background": "light"
     },
     "output_type": "display_data"
    }
   ],
   "source": [
    "X = np.linspace(0,1,100)\n",
    "Q= q_tilde(X)\n",
    "G = [g(x) for x in X]\n",
    "plt.plot(X,Q)\n",
    "plt.plot(X,G)\n",
    "plt.show()"
   ]
  },
  {
   "cell_type": "code",
   "execution_count": 63,
   "metadata": {},
   "outputs": [],
   "source": [
    "def quotient_g_q(x,q_tilde):\n",
    "    \"\"\"quotient de g et q_tilde\"\"\"\n",
    "    return(g(x)/q_tilde(x))\n",
    "\n",
    "def generateur_d_estimateur(q_tilde):\n",
    "    \"\"\"renvoie l'estimateur mu_tilde_n\"\"\"\n",
    "    return(lambda x: mu_tilde_n(x,q_tilde))\n",
    "\n",
    "def mu_tilde_n(taille_echantillon,q_tilde):\n",
    "    \"\"\"generation d'une réalisation de mu_tilde_n\"\"\"\n",
    "    méthode_rejet =  np.array([generation_q_tilde(q_tilde) for i in range(taille_echantillon)])\n",
    "    quotient = [quotient_g_q(méthode_rejet[i,0],q_tilde) for i in range(taille_echantillon)]\n",
    "    proba_acceptation = np.shape(méthode_rejet)[0]/np.sum(méthode_rejet[:,1])\n",
    "    return({\"valeur\" : np.mean(quotient),\"acceptation\" : proba_acceptation})\n",
    "\n",
    "def generation_q_tilde(q_tilde): \n",
    "    \"\"\"genere une va distribuée selon la densité q_tilde, selon la méthode du rejet\"\"\"\n",
    "    X = np.random.uniform(0,1,1)\n",
    "    U = np.random.uniform(0,1,1)\n",
    "    C= q_tilde(0)\n",
    "    nombre_de_tentatives = 1\n",
    "    while q_tilde(X)<C*U : \n",
    "        X = np.random.uniform(0,1,1)\n",
    "        U = np.random.uniform(0,1,1)\n",
    "        nombre_de_tentatives +=1\n",
    "    return(X,nombre_de_tentatives)\n"
   ]
  },
  {
   "cell_type": "markdown",
   "metadata": {},
   "source": [
    "Calcul de la variance empirique de $\\hat{\\mu}_{N}$ estimé par importance sampling avec le changement de probabilité\n",
    "$\\overset{\\sim}{q}(x) = \\frac{(1-\\frac{\\pi^{2}x^{2}}{8})}{   \\displaystyle \\int_{0}^{1} (1-\\frac{\\pi^{2}t^{2}}{8}) \\, \\mathrm{d}t }$"
   ]
  },
  {
   "cell_type": "code",
   "execution_count": 155,
   "metadata": {},
   "outputs": [],
   "source": [
    "warnings.filterwarnings(\"ignore\")\n",
    "\n",
    "def integrande_var_theo(q_tilde):\n",
    "        return(lambda x :g(x)*g(x)/q_tilde(x))\n",
    "        \n",
    "def importance_sampling(q_tilde) :\n",
    "    simulation = simulation_mu_n(iterations_mc,taille_echantillon,generateur_d_estimateur(q_tilde))\n",
    "    estimateur = simulation[\"estimation\"]\n",
    "    proba_acceptation = simulation[\"acceptation\"]\n",
    "    variance_emp_2 = np.var(estimateur)\n",
    "    print(\"variance empirique importance sampling : \" + str(variance_emp_2))\n",
    "    print(\"estimation de la probabilité d'acceptation : \"+ str(np.mean(proba_acceptation)))\n",
    "\n",
    "    # variance theorique\n",
    "    \n",
    "\n",
    "    integrale,err = quad(integrande_var_theo(q_tilde),0,1)\n",
    "\n",
    "    # calcul de la variance théorique\n",
    "    variance_theo_2 = (integrale-4/((math.pi)**2))/taille_echantillon\n",
    "    print(\"--------------\")\n",
    "    print(\"variance théorique : \"+ str(variance_theo_2))\n",
    "\n",
    "    #calcul de la probabilité d'acceptation\n",
    "    print(\"Probabilité d'acceptation théorique : \"+str(1/q_tilde(0)))\n",
    "\n",
    "    #comparaison des deux méthodes\n",
    "    print(\"--------------\")\n",
    "    print(\"rapport des variances  empiriques des 2 méthodes : \" +str(variance_emp_2/variance_emp_1) )\n",
    "    print(\"rapport des variances  theoriques des 2 méthodes : \" +str(variance_theo_2/variance_theo_1) )\n"
   ]
  },
  {
   "cell_type": "code",
   "execution_count": 156,
   "metadata": {},
   "outputs": [
    {
     "name": "stdout",
     "output_type": "stream",
     "text": [
      "variance empirique importance sampling : 0.00038359085456333395\n",
      "estimation de la probabilité d'acceptation : 0.6038371348564778\n",
      "--------------\n",
      "variance théorique : 0.0005195006910063227\n",
      "Probabilité d'acceptation théorique : 0.5887664832879433\n",
      "--------------\n",
      "rapport des variances  empiriques des 2 méthodes : 0.17947353871396882\n",
      "rapport des variances  theoriques des 2 méthodes : 0.27424338022190536\n"
     ]
    }
   ],
   "source": [
    "importance_sampling(q_tilde)"
   ]
  },
  {
   "cell_type": "markdown",
   "metadata": {},
   "source": [
    "Autre changement de probabilité : prenons $\\overset{\\sim}{q}_{2}(x) = 2(1-x)$"
   ]
  },
  {
   "cell_type": "code",
   "execution_count": 98,
   "metadata": {},
   "outputs": [],
   "source": [
    "def q_tilde_2(x):\n",
    "    return(2*(1-x))"
   ]
  },
  {
   "cell_type": "code",
   "execution_count": 96,
   "metadata": {},
   "outputs": [
    {
     "name": "stdout",
     "output_type": "stream",
     "text": [
      "variance empirique importance sampling : 0.00012627480832509257\n",
      "estimation de la probabilité d'acceptation : 0.5024566602591027\n",
      "--------------\n",
      "variance théorique : 0.00013569350213551656\n",
      "Probabilité d'acceptation théorique : 0.5\n",
      "--------------\n",
      "rapport des variances  empiriques des 2 méthodes : 0.06470821890869109\n",
      "rapport des variances  theoriques des 2 méthodes : 0.07163232955033641\n"
     ]
    }
   ],
   "source": [
    "importance_sampling(q_tilde_2)"
   ]
  },
  {
   "cell_type": "markdown",
   "metadata": {},
   "source": [
    "Autre changement de probabilité : prenons $\\overset{\\sim}{q}_{1}(x) = g(x)$"
   ]
  },
  {
   "cell_type": "code",
   "execution_count": 97,
   "metadata": {},
   "outputs": [
    {
     "name": "stdout",
     "output_type": "stream",
     "text": [
      "variance empirique importance sampling : 0.0\n",
      "estimation de la probabilité d'acceptation : 0.6444262067992151\n",
      "--------------\n",
      "variance théorique : 0.004626700755964605\n",
      "Probabilité d'acceptation théorique : 1.0\n",
      "--------------\n",
      "rapport des variances  empiriques des 2 méthodes : 0.0\n",
      "rapport des variances  theoriques des 2 méthodes : 2.442426115224427\n"
     ]
    }
   ],
   "source": [
    "importance_sampling(g)"
   ]
  },
  {
   "cell_type": "markdown",
   "metadata": {},
   "source": [
    "# Verification du TCL"
   ]
  },
  {
   "cell_type": "markdown",
   "metadata": {},
   "source": [
    " Dans cette section, on estime $\\mu_{N}$ un nombre $M=1000$ de fois, puis on trace l'histogramme de $\\sqrt{N}(\\frac{\\mu_{N} - \\mu}{\\sigma})$ "
   ]
  },
  {
   "cell_type": "markdown",
   "metadata": {},
   "source": [
    "### Pour l'estimation \"naive\" de $\\mu_{N}$"
   ]
  },
  {
   "cell_type": "code",
   "execution_count": 153,
   "metadata": {},
   "outputs": [
    {
     "data": {
      "text/plain": [
       "(array([  4.,  18.,  52., 138., 207., 234., 201.,  98.,  42.,   6.]),\n",
       " array([-3.40053554, -2.76402642, -2.12751731, -1.49100819, -0.85449907,\n",
       "        -0.21798996,  0.41851916,  1.05502828,  1.69153739,  2.32804651,\n",
       "         2.96455563]),\n",
       " <BarContainer object of 10 artists>)"
      ]
     },
     "execution_count": 153,
     "metadata": {},
     "output_type": "execute_result"
    },
    {
     "data": {
      "image/png": "[encoded data removed]",
      "text/plain": [
       "<Figure size 432x288 with 1 Axes>"
      ]
     },
     "metadata": {
      "needs_background": "light"
     },
     "output_type": "display_data"
    }
   ],
   "source": [
    "mu = 2/math.pi\n",
    "sigma = np.sqrt((1/2-4/(math.pi)**2))\n",
    "simulation = simulation_mu_n(iterations_mc,taille_echantillon,mu_n)[\"estimation\"]\n",
    "normalisation = np.sqrt(taille_echantillon)*(simulation-mu)/sigma\n",
    "plt.hist(normalisation)\n"
   ]
  },
  {
   "cell_type": "markdown",
   "metadata": {},
   "source": [
    "## Avec echantillonage préférentiel "
   ]
  },
  {
   "cell_type": "code",
   "execution_count": 157,
   "metadata": {},
   "outputs": [
    {
     "data": {
      "text/plain": [
       "(array([803., 158.,  27.,   7.,   1.,   2.,   0.,   0.,   0.,   2.]),\n",
       " array([-1.95052915, -0.44344517,  1.06363881,  2.57072279,  4.07780677,\n",
       "         5.58489075,  7.09197473,  8.59905871, 10.10614268, 11.61322666,\n",
       "        13.12031064]),\n",
       " <BarContainer object of 10 artists>)"
      ]
     },
     "execution_count": 157,
     "metadata": {},
     "output_type": "execute_result"
    },
    {
     "data": {
      "image/png": "[encoded data removed]",
      "text/plain": [
       "<Figure size 432x288 with 1 Axes>"
      ]
     },
     "metadata": {
      "needs_background": "light"
     },
     "output_type": "display_data"
    }
   ],
   "source": [
    "mu = 2/math.pi\n",
    "integrale,err = quad(integrande_var_theo(q_tilde),0,1)\n",
    "sigma = np.sqrt(integrale-4/((math.pi)**2))\n",
    "simulation = simulation_mu_n(iterations_mc,taille_echantillon,generateur_d_estimateur(q_tilde))[\"estimation\"]\n",
    "normalisation = np.sqrt(taille_echantillon)*(simulation-mu)/sigma\n",
    "plt.hist(normalisation)"
   ]
  }
 ],
 "metadata": {
  "kernelspec": {
   "display_name": "Python 3.8.5 ('base')",
   "language": "python",
   "name": "python3"
  },
  "language_info": {
   "codemirror_mode": {
    "name": "ipython",
    "version": 3
   },
   "file_extension": ".py",
   "mimetype": "text/x-python",
   "name": "python",
   "nbconvert_exporter": "python",
   "pygments_lexer": "ipython3",
   "version": "3.8.5"
  },
  "orig_nbformat": 4,
  "vscode": {
   "interpreter": {
    "hash": "f2a8ec5f68262961da4f9087eb6eb056d22de5b50841bcb2fddfe1c2c8bdd319"
   }
  }
 },
 "nbformat": 4,
 "nbformat_minor": 2
}
