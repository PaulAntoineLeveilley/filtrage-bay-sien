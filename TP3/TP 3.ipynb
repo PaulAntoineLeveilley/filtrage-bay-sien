{
 "cells": [
  {
   "cell_type": "markdown",
   "metadata": {},
   "source": [
    "# TP 3"
   ]
  },
  {
   "cell_type": "code",
   "execution_count": 31,
   "metadata": {},
   "outputs": [],
   "source": [
    "import numpy as np\n",
    "import math\n",
    "import matplotlib.pyplot as plt\n",
    "import numpy.linalg"
   ]
  },
  {
   "cell_type": "code",
   "execution_count": 59,
   "metadata": {},
   "outputs": [],
   "source": [
    "#constantes\n",
    "\n",
    "T=1\n",
    "nb_mes = 100\n",
    "simga_mes = 1*math.pi/180\n",
    "vitesse_observateur = 10\n",
    "\n",
    "position_initiale = [2000,2000]\n",
    "cap_emmeteur = phi = -45*math.pi/180\n",
    "vitesse_emmeteur = 10\n",
    "\n",
    "matrice_transition = np.array([[1,0,T,0],[0,1,0,T],[0,0,1,0],[0,0,0,1]])\n",
    "inverse = np.linalg.inv(matrice_transition)\n",
    "P0 = np.diag((1000,1000,10,10))**2\n",
    "J_init = np.linalg.inv(P0)"
   ]
  },
  {
   "cell_type": "code",
   "execution_count": 70,
   "metadata": {},
   "outputs": [],
   "source": [
    "\n",
    "from random import randrange\n",
    "\n",
    "\n",
    "def dynamique_observateur(phi,T,nb_mes,vitesse_observateur):\n",
    "    X=np.zeros((nb_mes,2))\n",
    "    for i in range(1,int(nb_mes/2)):\n",
    "        X[i]=X[i-1]+vitesse_observateur*T*np.array([1,0])\n",
    "    for i in range(int(nb_mes/2),nb_mes):\n",
    "        X[i]=X[i-1]+vitesse_observateur*T*np.array([math.cos(phi),math.sin(phi)])\n",
    "    return(X)\n",
    "\n",
    "def dynamique_emmeteur(position_initiale, nb_mes,cap_emmeteur,vitesse_emmeteur):\n",
    "    Y= np.zeros((nb_mes,2))\n",
    "    Y[0] = position_initiale\n",
    "    for i in range(1,nb_mes):\n",
    "        Y[i] = Y[i-1]+ vitesse_emmeteur*T*np.array([math.cos(cap_emmeteur),math.sin(cap_emmeteur)])\n",
    "    return(Y)\n",
    "\n",
    "def gradient_hk_Xk(X,Y):\n",
    "    assert np.shape(X) == np.shape(Y)\n",
    "    nb_mes, _ = np.shape(X)\n",
    "    gradient = np.zeros((nb_mes,4))\n",
    "    for i in range(nb_mes):\n",
    "        delta_y_k = Y[i,0] -X[i,0] #emmeteur - observateur\n",
    "        delta_x_k = Y[i,1]-X[i,1]\n",
    "        gradient[i,0]= -(delta_y_k)/( (1+( delta_y_k/delta_x_k )**2)*(delta_x_k)**2 )\n",
    "        gradient[i,1] = 1/( (delta_x_k)*(1+ (delta_y_k/delta_x_k)**2) )\n",
    "    return(gradient)\n",
    "\n",
    "def J(X,Y,J0,simga_mes,inverse):\n",
    "    gradient = gradient_hk_Xk(X,Y)\n",
    "    nb_mes,_ = np.shape(X)\n",
    "    valeurs_J =  np.zeros((nb_mes,4,4))\n",
    "    valeurs_J[0] = J0\n",
    "    for i in range(1,nb_mes):\n",
    "        grad = np.array([gradient[i]])\n",
    "        produit_hk_hk_T = np.dot(grad.T,grad)\n",
    "        phi_inv_J_k_1 = np.dot(inverse.T,valeurs_J[i-1])\n",
    "        valeurs_J[i]= (1/simga_mes**2)*produit_hk_hk_T + np.dot(phi_inv_J_k_1,inverse)\n",
    "    return(valeurs_J)\n",
    "\n",
    "def borne_cramer_rao(X,Y,J0,simga_mes,inverse):\n",
    "    valeurs_J = J(X,Y,J0,simga_mes,inverse)\n",
    "    cramer_rao = np.zeros((nb_mes,2))\n",
    "    for i in range(nb_mes):\n",
    "        BCR = np.linalg.inv(valeurs_J[i])\n",
    "        cramer_rao[i,0] = np.sqrt(BCR[0,0])\n",
    "        cramer_rao[i,1] = np.sqrt(BCR[1,1])\n",
    "    return(cramer_rao)"
   ]
  },
  {
   "cell_type": "code",
   "execution_count": 111,
   "metadata": {},
   "outputs": [
    {
     "name": "stdout",
     "output_type": "stream",
     "text": [
      "(100, 2)\n"
     ]
    },
    {
     "data": {
      "image/png": "[encoded data removed]",
      "text/plain": [
       "<Figure size 432x288 with 1 Axes>"
      ]
     },
     "metadata": {
      "needs_background": "light"
     },
     "output_type": "display_data"
    },
    {
     "name": "stdout",
     "output_type": "stream",
     "text": [
      "sigma_x =  39.74639708296917\n",
      "sigma_y = 105.51237839360243\n",
      "critère :  112.75033514518616\n"
     ]
    },
    {
     "data": {
      "image/png": "[encoded data removed]",
      "text/plain": [
       "<Figure size 432x288 with 1 Axes>"
      ]
     },
     "metadata": {
      "needs_background": "light"
     },
     "output_type": "display_data"
    }
   ],
   "source": [
    "phi = 112*math.pi/180\n",
    "X = dynamique_observateur(phi,T,nb_mes,vitesse_observateur)\n",
    "Y = dynamique_emmeteur(position_initiale, nb_mes,cap_emmeteur,vitesse_emmeteur)\n",
    "# gradient = gradient_hk_Xk(X,Y)\n",
    "valeurs_J = J(X,Y,J_init,simga_mes,inverse)\n",
    "cramer_rao = borne_cramer_rao(X,Y,J_init,simga_mes,inverse)\n",
    "print(np.shape(cramer_rao))\n",
    "plt.plot(X[:,0],X[:,1])\n",
    "plt.plot(Y[:,0],Y[:,1])\n",
    "plt.show()\n",
    "\n",
    "absc = np.linspace(0,1,100)\n",
    "plt.plot(absc,cramer_rao[:,0])\n",
    "plt.plot(absc,cramer_rao[:,1])\n",
    "\n",
    "print(\"sigma_x = \", cramer_rao[-1,0])\n",
    "print(\"sigma_y =\", cramer_rao[-1,1])\n",
    "print(\"critère : \",np.sqrt(cramer_rao[-1,0]**2+cramer_rao[-1,1]**2))\n"
   ]
  },
  {
   "cell_type": "code",
   "execution_count": 107,
   "metadata": {},
   "outputs": [],
   "source": [
    "def optimisation_cramer_rao(T,nb_mes,vitesse_observateur,position_initiale,cap_emmeteur,vitesse_emmeteur):\n",
    "    min_temp = 0\n",
    "   \n",
    "    phi = 0*math.pi/180\n",
    "    X = dynamique_observateur(phi,T,nb_mes,vitesse_observateur)\n",
    "    Y = dynamique_emmeteur(position_initiale, nb_mes,cap_emmeteur,vitesse_emmeteur)\n",
    "    valeurs_J = J(X,Y,J_init,simga_mes,inverse)\n",
    "    cramer_rao = borne_cramer_rao(X,Y,J_init,simga_mes,inverse)\n",
    "    critère =np.sqrt(cramer_rao[-1,0]**2+cramer_rao[-1,1]**2)\n",
    "    critère_temp = critère\n",
    "\n",
    "    for i in range(1,180):\n",
    "        phi = i*math.pi/180\n",
    "        X = dynamique_observateur(phi,T,nb_mes,vitesse_observateur)\n",
    "        Y = dynamique_emmeteur(position_initiale, nb_mes,cap_emmeteur,vitesse_emmeteur)\n",
    "        valeurs_J = J(X,Y,J_init,simga_mes,inverse)\n",
    "        cramer_rao = borne_cramer_rao(X,Y,J_init,simga_mes,inverse)\n",
    "        critère =np.sqrt(cramer_rao[-1,0]**2+cramer_rao[-1,1]**2)\n",
    "        if critère<critère_temp : \n",
    "            min_temp = i\n",
    "            critère_temp = critère\n",
    "    return(min_temp)\n"
   ]
  },
  {
   "cell_type": "code",
   "execution_count": 108,
   "metadata": {},
   "outputs": [
    {
     "data": {
      "text/plain": [
       "112"
      ]
     },
     "execution_count": 108,
     "metadata": {},
     "output_type": "execute_result"
    }
   ],
   "source": [
    "optimisation_cramer_rao(T,nb_mes,vitesse_observateur,position_initiale,cap_emmeteur,vitesse_emmeteur)"
   ]
  }
 ],
 "metadata": {
  "kernelspec": {
   "display_name": "Python 3.8.5 ('base')",
   "language": "python",
   "name": "python3"
  },
  "language_info": {
   "codemirror_mode": {
    "name": "ipython",
    "version": 3
   },
   "file_extension": ".py",
   "mimetype": "text/x-python",
   "name": "python",
   "nbconvert_exporter": "python",
   "pygments_lexer": "ipython3",
   "version": "3.8.5"
  },
  "orig_nbformat": 4,
  "vscode": {
   "interpreter": {
    "hash": "f2a8ec5f68262961da4f9087eb6eb056d22de5b50841bcb2fddfe1c2c8bdd319"
   }
  }
 },
 "nbformat": 4,
 "nbformat_minor": 2
}
